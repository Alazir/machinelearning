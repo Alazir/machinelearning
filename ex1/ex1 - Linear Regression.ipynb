{
 "cells": [
  {
   "cell_type": "markdown",
   "metadata": {},
   "source": [
    "# Machine Learning Online Class - Exercise 1: Linear Regression\n",
    "\n",
    "## Instructions\n",
    "\n",
    "This file contains code that helps you get started on the\n",
    "linear exercise. You will need to complete the following functions\n",
    "in this exericse:\n",
    "\n",
    "* warmUpExercise.py\n",
    "* plotData.py\n",
    "* gradientDescent.py\n",
    "* computeCost.py\n",
    "* gradientDescentMulti.py\n",
    "* computeCostMulti.py\n",
    "* featureNormalize.py\n",
    "* normalEqn.py\n",
    "\n",
    "For this exercise, you will not need to change any code in this file,\n",
    "or any other files other than those mentioned above.\n",
    "\n",
    "x refers to the population size in 10,000s\n",
    "y refers to the profit in $10,000s"
   ]
  },
  {
   "cell_type": "code",
   "execution_count": 1,
   "metadata": {},
   "outputs": [],
   "source": [
    "# Initialization\n",
    "import numpy as np\n",
    "import matplotlib.pyplot as plt"
   ]
  },
  {
   "cell_type": "markdown",
   "metadata": {},
   "source": [
    "## WARMUPEXERCISE Example function\n",
    "A = WARMUPEXERCISE() is an example function that returns the 5x5 identity matrix\n",
    "\n",
    "Instructions: Return the 5x5 identity matrix \n"
   ]
  },
  {
   "cell_type": "code",
   "execution_count": 2,
   "metadata": {},
   "outputs": [
    {
     "name": "stdout",
     "output_type": "stream",
     "text": [
      "Running warmUpExercise ... \n",
      "\n",
      "5x5 Identity Matrix: \n",
      "\n",
      "[[1. 0. 0. 0. 0.]\n",
      " [0. 1. 0. 0. 0.]\n",
      " [0. 0. 1. 0. 0.]\n",
      " [0. 0. 0. 1. 0.]\n",
      " [0. 0. 0. 0. 1.]]\n"
     ]
    }
   ],
   "source": [
    "# ==================== Part 1: Basic Function ====================\n",
    "def warmUpExercise():\n",
    "    return np.identity(5)\n",
    "\n",
    "print('Running warmUpExercise ... \\n')\n",
    "print('5x5 Identity Matrix: \\n')\n",
    "\n",
    "print(warmUpExercise())"
   ]
  },
  {
   "cell_type": "markdown",
   "metadata": {},
   "source": [
    "## PLOTDATA Plots the data points x and y into a new figure \n",
    "PLOTDATA(x,y) plots the data points and gives the figure axes labels of\n",
    "population and profit.\n",
    "\n",
    "**Instructions**: Plot the training data into a figure using the \n",
    "               \"figure\" and \"plot\" commands. Set the axes labels using\n",
    "               the \"xlabel\" and \"ylabel\" commands. Assume the \n",
    "               population and revenue data have been passed in\n",
    "               as the x and y arguments of this function.\n",
    "\n",
    "**Hint**: You can use the 'rx' option with plot to have the markers\n",
    "      appear as red crosses. Furthermore, you can make the\n",
    "      markers larger by using plot(..., 'rx', 'MarkerSize', 10);"
   ]
  },
  {
   "cell_type": "code",
   "execution_count": 3,
   "metadata": {},
   "outputs": [
    {
     "name": "stdout",
     "output_type": "stream",
     "text": [
      "Plotting Training Data ...\n",
      "\n"
     ]
    },
    {
     "data": {
      "image/png": "[encoded data removed]",
      "text/plain": [
       "<Figure size 432x288 with 1 Axes>"
      ]
     },
     "metadata": {
      "needs_background": "light"
     },
     "output_type": "display_data"
    }
   ],
   "source": [
    "# ======================= Part 2: Plotting =======================\n",
    "def plotData(x, y):\n",
    "    plt.ylabel('Profit in $ 10,000s')\n",
    "    plt.xlabel('Population of City in 10,000s')\n",
    "    plt.plot(x, y, 'rx', markersize=10)\n",
    "    \n",
    "print('Plotting Training Data ...\\n')\n",
    "data = np.loadtxt('ex1data1.txt', delimiter=',');\n",
    "\n",
    "X = data[:, 0] # Population\n",
    "y = data[:, 1] # Profit\n",
    "m = len(y) # number of training examples\n",
    "\n",
    "# Plot Data\n",
    "plotData(X, y)"
   ]
  },
  {
   "cell_type": "markdown",
   "metadata": {},
   "source": [
    "## COMPUTECOST Compute cost for linear regression\n",
    "\n",
    "J = COMPUTECOST(X, y, theta) computes the cost of using theta as the\n",
    "    parameter for linear regression to fit the data points in X and y\n",
    "\n",
    "**Instructions**: Compute the cost of a particular choice of theta\n",
    "              You should set J to the cost."
   ]
  },
  {
   "cell_type": "code",
   "execution_count": 4,
   "metadata": {
    "scrolled": true
   },
   "outputs": [
    {
     "name": "stdout",
     "output_type": "stream",
     "text": [
      "\n",
      "Testing the cost function ...\n",
      "\n",
      "With theta = [0 ; 0]\n",
      "Cost computed = 32.072734\n",
      "\n",
      "Expected cost value (approx) 32.07\n",
      "\n"
     ]
    }
   ],
   "source": [
    "# =================== Part 3: Cost and Gradient descent ===================\n",
    "def computeCost(X, y, theta):\n",
    "    m = len(y) # number of training examples\n",
    "    J = 0\n",
    "    \n",
    "    # J = (1/(2*m)) *sum( (((X*theta)-y).^2))\n",
    "    \n",
    "    yT = np.array([y]).T\n",
    "    J = (1.0/(2*m)) * sum(((X_padded @ theta) - yT) ** 2)\n",
    "    \n",
    "    return J[0]\n",
    "\n",
    "\n",
    "X_padded = np.column_stack((np.ones((m,1)), X)) # Add a column of ones to X\n",
    "theta = np.zeros((2, 1)) # initialize fitting parameters\n",
    "\n",
    "print('\\nTesting the cost function ...\\n')\n",
    "\n",
    "# compute and display initial cost\n",
    "J = computeCost(X_padded, y, theta);\n",
    "print('With theta = [0 ; 0]\\nCost computed = {:f}\\n'.format(J))\n",
    "print('Expected cost value (approx) 32.07\\n')\n",
    "\n"
   ]
  },
  {
   "cell_type": "code",
   "execution_count": 5,
   "metadata": {},
   "outputs": [
    {
     "name": "stdout",
     "output_type": "stream",
     "text": [
      "\n",
      "With theta = [-1 ; 2]\n",
      "Cost computed = 54.242455\n",
      "\n",
      "Expected cost value (approx) 54.24\n",
      "\n"
     ]
    }
   ],
   "source": [
    "# further testing of the cost function\n",
    "J = computeCost(X_padded, y, np.array([[-1], [2]]))\n",
    "\n",
    "print('\\nWith theta = [-1 ; 2]\\nCost computed = {:f}\\n'.format(J))\n",
    "print('Expected cost value (approx) 54.24\\n');"
   ]
  },
  {
   "cell_type": "markdown",
   "metadata": {},
   "source": [
    "## GRADIENTDESCENT Performs gradient descent to learn theta\n",
    "theta = GRADIENTDESCENT(X, y, theta, alpha, num_iters) updates theta by \n",
    "        taking num_iters gradient steps with learning rate alpha"
   ]
  },
  {
   "cell_type": "code",
   "execution_count": 6,
   "metadata": {},
   "outputs": [
    {
     "name": "stdout",
     "output_type": "stream",
     "text": [
      "\n",
      "Running Gradient Descent ...\n",
      "\n",
      "Theta found by gradient descent:\n",
      "\n",
      "[[-3.63029144]\n",
      " [ 1.16636235]]\n",
      "\n",
      "Expected theta values (approx)\n",
      "\n",
      " -3.6303\n",
      "  1.1664\n",
      "\n"
     ]
    }
   ],
   "source": [
    "def gradientDescent(X, y, theta, alpha, num_iters):\n",
    "    m = len(y) # number of training examples\n",
    "    J_history = np.zeros((num_iters, 1))\n",
    "    \n",
    "    for iter in np.arange(num_iters):\n",
    "        yT = np.array([y]).T\n",
    "        theta = theta - alpha * (1.0/m) * (X.T @ ((X @ theta) - yT))\n",
    "        \n",
    "        J_history[iter] = computeCost(X, y, theta)\n",
    "        \n",
    "    return theta\n",
    "    \n",
    "\n",
    "print('\\nRunning Gradient Descent ...\\n')\n",
    "\n",
    "# Some gradient descent settings\n",
    "iterations = 1500\n",
    "alpha = 0.01\n",
    "\n",
    "theta = np.zeros((2, 1)) # initialize fitting parameters\n",
    "\n",
    "# run gradient descent\n",
    "theta = gradientDescent(X_padded, y, theta, alpha, iterations);\n",
    "\n",
    "# print theta to screen\n",
    "print('Theta found by gradient descent:\\n')\n",
    "print(f'{theta}\\n')\n",
    "print('Expected theta values (approx)\\n')\n",
    "print(' -3.6303\\n  1.1664\\n')\n"
   ]
  },
  {
   "cell_type": "code",
   "execution_count": 7,
   "metadata": {},
   "outputs": [
    {
     "data": {
      "text/plain": [
       "<matplotlib.legend.Legend at 0x1a3c6567af0>"
      ]
     },
     "execution_count": 7,
     "metadata": {},
     "output_type": "execute_result"
    },
    {
     "data": {
      "image/png": "[encoded data removed]",
      "text/plain": [
       "<Figure size 432x288 with 1 Axes>"
      ]
     },
     "metadata": {
      "needs_background": "light"
     },
     "output_type": "display_data"
    }
   ],
   "source": [
    "# Plot the linear fit\n",
    "plt.ylabel('Profit in $ 10,000s')\n",
    "plt.xlabel('Population of City in 10,000s')\n",
    "plt.plot(X, y, 'rx', markersize=10)\n",
    "plt.plot(X, X_padded @ theta)\n",
    "plt.legend(['Training data', 'Linear regression'], loc=\"lower right\")\n"
   ]
  },
  {
   "cell_type": "code",
   "execution_count": 8,
   "metadata": {},
   "outputs": [
    {
     "name": "stdout",
     "output_type": "stream",
     "text": [
      "For population = 35,000, we predict a profit of 4519.7678677017675\n",
      "\n",
      "For population = 70,000, we predict a profit of 45342.45012944714\n",
      "\n"
     ]
    }
   ],
   "source": [
    "# Predict values for population sizes of 35,000 and 70,000\n",
    "predict1 = np.array([1, 3.5]) @ theta\n",
    "predict1 *= 10000\n",
    "print(f'For population = 35,000, we predict a profit of {predict1[0]}\\n')\n",
    "\n",
    "predict2 = np.array([1, 7]) @ theta\n",
    "predict2 *= 10000\n",
    "print(f'For population = 70,000, we predict a profit of {predict2[0]}\\n')"
   ]
  },
  {
   "cell_type": "code",
   "execution_count": 9,
   "metadata": {},
   "outputs": [
    {
     "name": "stdout",
     "output_type": "stream",
     "text": [
      "Visualizing J(theta_0, theta_1) ...\n",
      "\n"
     ]
    }
   ],
   "source": [
    "# ============= Part 4: Visualizing J(theta_0, theta_1) =============\n",
    "print('Visualizing J(theta_0, theta_1) ...\\n')\n",
    "\n",
    "# Grid over which we will calculate J\n",
    "theta0_vals = np.linspace(-10, 10, 100)\n",
    "theta1_vals = np.linspace(-1, 4, 100)\n",
    "\n",
    "# initialize J_vals to a matrix of 0's\n",
    "J_vals = np.zeros((len(theta0_vals), len(theta1_vals)))\n",
    "\n",
    "for idx_0, val_0 in enumerate(theta0_vals):\n",
    "    for idx_1, val_1 in enumerate(theta1_vals):\n",
    "        t = np.array([[val_0], [val_1]])\n",
    "        J_vals[idx_0, idx_1] = computeCost(X_padded, y, t) # TODO: Este array estah invertido. Nao sei por que ainda.\n"
   ]
  },
  {
   "cell_type": "code",
   "execution_count": 10,
   "metadata": {},
   "outputs": [
    {
     "data": {
      "text/plain": [
       "array([328.09290555, 323.26504192, 318.47799046, 313.73175116,\n",
       "       309.02632402, 304.36170904, 299.73790622, 295.15491557,\n",
       "       290.61273708, 286.11137075, 281.65081658, 277.23107457,\n",
       "       272.85214473, 268.51402704, 264.21672152, 259.96022817,\n",
       "       255.74454697, 251.56967794, 247.43562106, 243.34237635,\n",
       "       239.28994381, 235.27832342, 231.3075152 , 227.37751914,\n",
       "       223.48833524, 219.6399635 , 215.83240392, 212.06565651,\n",
       "       208.33972126, 204.65459817, 201.01028724, 197.40678847,\n",
       "       193.84410187, 190.32222743, 186.84116515, 183.40091503,\n",
       "       180.00147708, 176.64285128, 173.32503765, 170.04803618,\n",
       "       166.81184687, 163.61646973, 160.46190474, 157.34815192,\n",
       "       154.27521126, 151.24308277, 148.25176643, 145.30126226,\n",
       "       142.39157025, 139.5226904 , 136.69462271, 133.90736719,\n",
       "       131.16092382, 128.45529262, 125.79047358, 123.16646671,\n",
       "       120.58327199, 118.04088944, 115.53931905, 113.07856082,\n",
       "       110.65861475, 108.27948085, 105.9411591 , 103.64364952,\n",
       "       101.3869521 ,  99.17106685,  96.99599375,  94.86173282,\n",
       "        92.76828405,  90.71564744,  88.70382299,  86.73281071,\n",
       "        84.80261058,  82.91322262,  81.06464683,  79.25688319,\n",
       "        77.48993171,  75.7637924 ,  74.07846525,  72.43395026,\n",
       "        70.83024744,  69.26735677,  67.74527827,  66.26401193,\n",
       "        64.82355775,  63.42391573,  62.06508588,  60.74706819,\n",
       "        59.46986266,  58.23346929,  57.03788808,  55.88311904,\n",
       "        54.76916216,  53.69601744,  52.66368488,  51.67216448,\n",
       "        50.72145625,  49.81156018,  48.94247627,  48.11420452])"
      ]
     },
     "execution_count": 10,
     "metadata": {},
     "output_type": "execute_result"
    }
   ],
   "source": [
    "J_vals[:, 0]"
   ]
  },
  {
   "cell_type": "code",
   "execution_count": null,
   "metadata": {},
   "outputs": [],
   "source": []
  },
  {
   "cell_type": "code",
   "execution_count": null,
   "metadata": {},
   "outputs": [],
   "source": []
  },
  {
   "cell_type": "code",
   "execution_count": 11,
   "metadata": {},
   "outputs": [
    {
     "data": {
      "text/plain": [
       "\"\\n# To convert from Octave to Python\\n\\n% Because of the way meshgrids work in the surf command, we need to\\n% transpose J_vals before calling surf, or else the axes will be flipped\\nJ_vals = J_vals';\\n% Surface plot\\nfigure;\\nsurf(theta0_vals, theta1_vals, J_vals)\\nxlabel('\\theta_0'); ylabel('\\theta_1');\\n\\n% Contour plot\\nfigure;\\n% Plot J_vals as 15 contours spaced logarithmically between 0.01 and 100\\ncontour(theta0_vals, theta1_vals, J_vals, logspace(-2, 3, 20))\\nxlabel('\\theta_0'); ylabel('\\theta_1');\\nhold on;\\nplot(theta(1), theta(2), 'rx', 'MarkerSize', 10, 'LineWidth', 2);\\n\""
      ]
     },
     "execution_count": 11,
     "metadata": {},
     "output_type": "execute_result"
    }
   ],
   "source": [
    "\"\"\"\n",
    "# To convert from Octave to Python\n",
    "\n",
    "% Because of the way meshgrids work in the surf command, we need to\n",
    "% transpose J_vals before calling surf, or else the axes will be flipped\n",
    "J_vals = J_vals';\n",
    "% Surface plot\n",
    "figure;\n",
    "surf(theta0_vals, theta1_vals, J_vals)\n",
    "xlabel('\\theta_0'); ylabel('\\theta_1');\n",
    "\n",
    "% Contour plot\n",
    "figure;\n",
    "% Plot J_vals as 15 contours spaced logarithmically between 0.01 and 100\n",
    "contour(theta0_vals, theta1_vals, J_vals, logspace(-2, 3, 20))\n",
    "xlabel('\\theta_0'); ylabel('\\theta_1');\n",
    "hold on;\n",
    "plot(theta(1), theta(2), 'rx', 'MarkerSize', 10, 'LineWidth', 2);\n",
    "\"\"\""
   ]
  }
 ],
 "metadata": {
  "kernelspec": {
   "display_name": "Python 3",
   "language": "python",
   "name": "python3"
  },
  "language_info": {
   "codemirror_mode": {
    "name": "ipython",
    "version": 3
   },
   "file_extension": ".py",
   "mimetype": "text/x-python",
   "name": "python",
   "nbconvert_exporter": "python",
   "pygments_lexer": "ipython3",
   "version": "3.8.5"
  }
 },
 "nbformat": 4,
 "nbformat_minor": 5
}
